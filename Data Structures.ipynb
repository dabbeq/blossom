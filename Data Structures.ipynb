{
 "cells": [
  {
   "cell_type": "markdown",
   "id": "3c2e90df",
   "metadata": {},
   "source": [
    "### Q1\n",
    "\n",
    "Name the four built-in data structures in python. Give one examples for each"
   ]
  },
  {
   "cell_type": "code",
   "execution_count": 1,
   "id": "944990dd",
   "metadata": {},
   "outputs": [],
   "source": [
    "sets = {1,2,3,4,5}\n",
    "tuples = (\"Okocha\", 2,45,5, \"Ama\")\n",
    "dictionaries = {\"Kitchen\":45, \"Hall\":100, \"Bedroom\":75 }\n",
    "list = [1,2,3,4,5 ]"
   ]
  },
  {
   "cell_type": "markdown",
   "id": "b6e1dd1b",
   "metadata": {},
   "source": [
    "### Q2\n",
    "\n",
    "State two differences between a list and a tuple in Python."
   ]
  },
  {
   "cell_type": "code",
   "execution_count": null,
   "id": "a6f9d462",
   "metadata": {},
   "outputs": [],
   "source": [
    "# 1. A list is mutable while a tuple is not mutable.\n",
    "#A list is stored in [] while a tuple is stored in ()."
   ]
  },
  {
   "cell_type": "markdown",
   "id": "815b4e67",
   "metadata": {},
   "source": [
    "### Q3\n",
    "Make a list containing names of five animals with a variable name `animal_list`\n",
    "\n",
    "Write a code for the following:\n",
    "- Print the first two animals\n",
    "- Print the last two animals\n",
    "- Add three extra animals to the variable `animal_list`\n",
    "- Remove the first two animals from the variable `animal_list`\n",
    "- How many animals are in the `animal_list`?\n",
    "- Create a variable animal_set which stores the set of animal_list \n",
    "- How many elements are in the animal_set?\n"
   ]
  },
  {
   "cell_type": "code",
   "execution_count": 2,
   "id": "5fb75900",
   "metadata": {},
   "outputs": [],
   "source": [
    "animal_list = [\"Dog\", \"Cat\", \"Goat\", \"Donkey\", \"Cow\"]"
   ]
  },
  {
   "cell_type": "code",
   "execution_count": 3,
   "id": "21dce40d",
   "metadata": {
    "scrolled": true
   },
   "outputs": [
    {
     "data": {
      "text/plain": [
       "['Dog', 'Cat']"
      ]
     },
     "execution_count": 3,
     "metadata": {},
     "output_type": "execute_result"
    }
   ],
   "source": [
    "animal_list[:2]"
   ]
  },
  {
   "cell_type": "code",
   "execution_count": 4,
   "id": "f0f3a9a8",
   "metadata": {},
   "outputs": [
    {
     "data": {
      "text/plain": [
       "['Donkey', 'Cow']"
      ]
     },
     "execution_count": 4,
     "metadata": {},
     "output_type": "execute_result"
    }
   ],
   "source": [
    "animal_list[-2:]"
   ]
  },
  {
   "cell_type": "code",
   "execution_count": 5,
   "id": "6a7487bb",
   "metadata": {},
   "outputs": [],
   "source": [
    "animal_list.extend([\"Fish\", \"Monkey\", \"Bird\"])"
   ]
  },
  {
   "cell_type": "code",
   "execution_count": 6,
   "id": "b573196a",
   "metadata": {},
   "outputs": [
    {
     "data": {
      "text/plain": [
       "['Dog', 'Cat', 'Goat', 'Donkey', 'Cow', 'Fish', 'Monkey', 'Bird']"
      ]
     },
     "execution_count": 6,
     "metadata": {},
     "output_type": "execute_result"
    }
   ],
   "source": [
    "animal_list"
   ]
  },
  {
   "cell_type": "code",
   "execution_count": 7,
   "id": "0a216326",
   "metadata": {},
   "outputs": [
    {
     "data": {
      "text/plain": [
       "['Cat', 'Goat', 'Donkey', 'Cow', 'Fish', 'Monkey', 'Bird']"
      ]
     },
     "execution_count": 7,
     "metadata": {},
     "output_type": "execute_result"
    }
   ],
   "source": [
    "#Remove the first two animals from the variable animal_list\n",
    "\n",
    "animal_list.remove(animal_list[0])\n",
    "animal_list"
   ]
  },
  {
   "cell_type": "code",
   "execution_count": 8,
   "id": "21306561",
   "metadata": {},
   "outputs": [
    {
     "data": {
      "text/plain": [
       "['Goat', 'Donkey', 'Cow', 'Fish', 'Monkey', 'Bird']"
      ]
     },
     "execution_count": 8,
     "metadata": {},
     "output_type": "execute_result"
    }
   ],
   "source": [
    "animal_list.remove(animal_list[0])\n",
    "animal_list"
   ]
  },
  {
   "cell_type": "code",
   "execution_count": 9,
   "id": "84e72579",
   "metadata": {},
   "outputs": [
    {
     "data": {
      "text/plain": [
       "6"
      ]
     },
     "execution_count": 9,
     "metadata": {},
     "output_type": "execute_result"
    }
   ],
   "source": [
    "#How many animals are in the animal_list?\n",
    "len(animal_list)"
   ]
  },
  {
   "cell_type": "code",
   "execution_count": 17,
   "id": "9ac377bf",
   "metadata": {
    "scrolled": false
   },
   "outputs": [
    {
     "data": {
      "text/plain": [
       "{'Bird', 'Cow', 'Donkey', 'Fish', 'Goat', 'Monkey'}"
      ]
     },
     "execution_count": 17,
     "metadata": {},
     "output_type": "execute_result"
    }
   ],
   "source": [
    "#Create a variable animal_set which stores the set of animal_list\n",
    "animal_set = set(animal_list)\n",
    "animal_set"
   ]
  },
  {
   "cell_type": "code",
   "execution_count": 18,
   "id": "997afa3d",
   "metadata": {},
   "outputs": [
    {
     "data": {
      "text/plain": [
       "6"
      ]
     },
     "execution_count": 18,
     "metadata": {},
     "output_type": "execute_result"
    }
   ],
   "source": [
    "#How many elements are in the animal_set?\n",
    "len(animal_set)"
   ]
  },
  {
   "cell_type": "markdown",
   "id": "113c9970",
   "metadata": {},
   "source": [
    "### Q4\n",
    "\n",
    "Given a list:\n",
    "\n",
    "suitcase = [\"sunglasses\", \"hat\", \"passport\", \"laptop\", \"suit\", \"shoes\"]\n",
    "\n",
    "a. Create a list called first containing only the two first items from suitcase.\n",
    "\n",
    "b. Create a list called middle containing only the two middle items from suitcase.\n",
    "\n",
    "c. Create a list called last made up only of the last two items from suitcase."
   ]
  },
  {
   "cell_type": "code",
   "execution_count": 19,
   "id": "b9649476",
   "metadata": {},
   "outputs": [],
   "source": [
    "suitcase = [\"sunglasses\", \"hat\", \"passport\", \"laptop\", \"suit\", \"shoes\"]"
   ]
  },
  {
   "cell_type": "code",
   "execution_count": 24,
   "id": "45818380",
   "metadata": {
    "scrolled": true
   },
   "outputs": [
    {
     "data": {
      "text/plain": [
       "['sunglasses', 'hat']"
      ]
     },
     "execution_count": 24,
     "metadata": {},
     "output_type": "execute_result"
    }
   ],
   "source": [
    "first= (suitcase[0:2])\n",
    "first"
   ]
  },
  {
   "cell_type": "code",
   "execution_count": 26,
   "id": "d2f5c587",
   "metadata": {},
   "outputs": [
    {
     "data": {
      "text/plain": [
       "['passport', 'laptop']"
      ]
     },
     "execution_count": 26,
     "metadata": {},
     "output_type": "execute_result"
    }
   ],
   "source": [
    "middle= (suitcase[2:4])\n",
    "middle"
   ]
  },
  {
   "cell_type": "code",
   "execution_count": 28,
   "id": "9d8948a1",
   "metadata": {},
   "outputs": [
    {
     "data": {
      "text/plain": [
       "['suit', 'shoes']"
      ]
     },
     "execution_count": 28,
     "metadata": {},
     "output_type": "execute_result"
    }
   ],
   "source": [
    "last= (suitcase[-2:])\n",
    "last"
   ]
  },
  {
   "cell_type": "markdown",
   "id": "711ba044",
   "metadata": {},
   "source": [
    "### Q5\n",
    "Write a python code to insert 35 into the list below. Make sure it is inserted in the right position to maintain the order of the data.\n",
    "\n",
    "`values = [20,25,30,40,45,50,55,60,65,70]`"
   ]
  },
  {
   "cell_type": "code",
   "execution_count": 29,
   "id": "da829235",
   "metadata": {},
   "outputs": [],
   "source": [
    "values = [20,25,30,40,45,50,55,60,65,70]"
   ]
  },
  {
   "cell_type": "code",
   "execution_count": 40,
   "id": "2727ab38",
   "metadata": {},
   "outputs": [],
   "source": [
    "values.append(35)\n",
    "values.sort()"
   ]
  },
  {
   "cell_type": "code",
   "execution_count": 41,
   "id": "36ef36db",
   "metadata": {},
   "outputs": [
    {
     "data": {
      "text/plain": [
       "[20, 25, 30, 35, 40, 45, 50, 55, 60, 65, 70]"
      ]
     },
     "execution_count": 41,
     "metadata": {},
     "output_type": "execute_result"
    }
   ],
   "source": [
    "values"
   ]
  },
  {
   "cell_type": "markdown",
   "id": "f535cf64",
   "metadata": {},
   "source": [
    "### Q6\n",
    "\n",
    "Given that Python lists and Python tuples are quite similar – when might you prefer to use a tuple over a list?"
   ]
  },
  {
   "cell_type": "code",
   "execution_count": null,
   "id": "bf30d967",
   "metadata": {},
   "outputs": [],
   "source": [
    "#when you do not want to add or remove any element from your data"
   ]
  },
  {
   "cell_type": "markdown",
   "id": "346927f6",
   "metadata": {},
   "source": [
    "### Q7\n",
    "Create a dictionary with 5 Ghana regions and their capitals and store it in the variable `region_capital`\n",
    "\n",
    "- Print out the keys of region_capital\n",
    "- Print out the values of region_capital\n"
   ]
  },
  {
   "cell_type": "code",
   "execution_count": 50,
   "id": "7d5262b6",
   "metadata": {},
   "outputs": [],
   "source": [
    "region_capital = {\"Greater Accra\":\"Accra\", \"Eastern\":\"Koforidua\", \"Ashanti\": \"Kumasi\", \"Northern\": \"Tamale\", \"Brong Ahafo\": \"Sunyani\"}\n"
   ]
  },
  {
   "cell_type": "code",
   "execution_count": 54,
   "id": "0c68d438",
   "metadata": {},
   "outputs": [
    {
     "data": {
      "text/plain": [
       "dict_keys(['Greater Accra', 'Eastern', 'Ashanti', 'Northern', 'Brong Ahafo'])"
      ]
     },
     "execution_count": 54,
     "metadata": {},
     "output_type": "execute_result"
    }
   ],
   "source": [
    "region_capital.keys()"
   ]
  },
  {
   "cell_type": "code",
   "execution_count": 55,
   "id": "146ad6c0",
   "metadata": {},
   "outputs": [
    {
     "data": {
      "text/plain": [
       "dict_values(['Accra', 'Koforidua', 'Kumasi', 'Tamale', 'Sunyani'])"
      ]
     },
     "execution_count": 55,
     "metadata": {},
     "output_type": "execute_result"
    }
   ],
   "source": [
    "region_capital.values()"
   ]
  },
  {
   "cell_type": "markdown",
   "id": "70526b3b",
   "metadata": {},
   "source": [
    "### Q8\n",
    "\n",
    "`values = [3,3,4,5,6,3,4,3,5,2,4,2,5,6,1,6]`\n",
    "\n",
    "Using the codes above answer the following questions:\n",
    "- What is the total number of elements in values?\n",
    "- What is the highest occuring number in the values variable?\n",
    "- Convert values into a set and store it into a variable named `values_set`\n",
    "- How many elements are in the variable values_set?\n"
   ]
  },
  {
   "cell_type": "code",
   "execution_count": 56,
   "id": "19a5e482",
   "metadata": {},
   "outputs": [],
   "source": [
    "values = [3,4,5,6,3,4,3,5,2,4,2,5,6,1,6]"
   ]
  },
  {
   "cell_type": "code",
   "execution_count": 57,
   "id": "5930fa40",
   "metadata": {},
   "outputs": [
    {
     "data": {
      "text/plain": [
       "15"
      ]
     },
     "execution_count": 57,
     "metadata": {},
     "output_type": "execute_result"
    }
   ],
   "source": [
    "len(values)"
   ]
  },
  {
   "cell_type": "code",
   "execution_count": 61,
   "id": "4b4e4e45",
   "metadata": {},
   "outputs": [],
   "source": [
    "highest_occuring = max(set(values), key=values.count)"
   ]
  },
  {
   "cell_type": "code",
   "execution_count": 62,
   "id": "63d8b1e4",
   "metadata": {},
   "outputs": [],
   "source": [
    "values_set = set(values)"
   ]
  },
  {
   "cell_type": "code",
   "execution_count": 64,
   "id": "ec17d249",
   "metadata": {},
   "outputs": [
    {
     "data": {
      "text/plain": [
       "6"
      ]
     },
     "execution_count": 64,
     "metadata": {},
     "output_type": "execute_result"
    }
   ],
   "source": [
    "len(values_set)"
   ]
  },
  {
   "cell_type": "markdown",
   "id": "801d5876",
   "metadata": {},
   "source": [
    "### Q9\n",
    "Write a Python script to print a dictionary where the keys are numbers between 1 and 15 (both included) and the values are the square of the keys."
   ]
  },
  {
   "cell_type": "code",
   "execution_count": 59,
   "id": "5bbdfea3",
   "metadata": {},
   "outputs": [],
   "source": [
    "squares = {}\n",
    "for num in range(1, 16):\n",
    "    squares[num] = num ** 2\n",
    "    "
   ]
  },
  {
   "cell_type": "code",
   "execution_count": 60,
   "id": "dc3ce813",
   "metadata": {},
   "outputs": [
    {
     "data": {
      "text/plain": [
       "{1: 1,\n",
       " 2: 4,\n",
       " 3: 9,\n",
       " 4: 16,\n",
       " 5: 25,\n",
       " 6: 36,\n",
       " 7: 49,\n",
       " 8: 64,\n",
       " 9: 81,\n",
       " 10: 100,\n",
       " 11: 121,\n",
       " 12: 144,\n",
       " 13: 169,\n",
       " 14: 196,\n",
       " 15: 225}"
      ]
     },
     "execution_count": 60,
     "metadata": {},
     "output_type": "execute_result"
    }
   ],
   "source": [
    "squares"
   ]
  },
  {
   "cell_type": "markdown",
   "id": "18954e57",
   "metadata": {},
   "source": [
    "### Q10\n",
    "Write a Python program to create a dictionary of keys x, y, and z where each key has as value a list from 11-20, 21-30, and 31-40 respectively. Access the fifth value of each key from the dictionary."
   ]
  },
  {
   "cell_type": "code",
   "execution_count": 65,
   "id": "fec19820",
   "metadata": {},
   "outputs": [],
   "source": [
    "my_dict = {'x': list(range(11, 21)),\n",
    "            'y': list(range(21, 31)),\n",
    "            'z': list(range(31, 41))}\n",
    "\n",
    "\n"
   ]
  },
  {
   "cell_type": "code",
   "execution_count": 66,
   "id": "0dd6ce36",
   "metadata": {},
   "outputs": [
    {
     "data": {
      "text/plain": [
       "{'x': [11, 12, 13, 14, 15, 16, 17, 18, 19, 20],\n",
       " 'y': [21, 22, 23, 24, 25, 26, 27, 28, 29, 30],\n",
       " 'z': [31, 32, 33, 34, 35, 36, 37, 38, 39, 40]}"
      ]
     },
     "execution_count": 66,
     "metadata": {},
     "output_type": "execute_result"
    }
   ],
   "source": [
    "my_dict"
   ]
  },
  {
   "cell_type": "code",
   "execution_count": 68,
   "id": "fe6b7fc0",
   "metadata": {},
   "outputs": [],
   "source": [
    "element_fifthx = my_dict['x'][4]\n",
    "element_fifthy = my_dict['y'][4]\n",
    "element_fifthz = my_dict['z'][4]"
   ]
  },
  {
   "cell_type": "code",
   "execution_count": 69,
   "id": "3239f10b",
   "metadata": {},
   "outputs": [
    {
     "data": {
      "text/plain": [
       "15"
      ]
     },
     "execution_count": 69,
     "metadata": {},
     "output_type": "execute_result"
    }
   ],
   "source": [
    "element_fifthx"
   ]
  },
  {
   "cell_type": "code",
   "execution_count": 70,
   "id": "3358471c",
   "metadata": {},
   "outputs": [
    {
     "data": {
      "text/plain": [
       "25"
      ]
     },
     "execution_count": 70,
     "metadata": {},
     "output_type": "execute_result"
    }
   ],
   "source": [
    "element_fifthy"
   ]
  },
  {
   "cell_type": "code",
   "execution_count": 71,
   "id": "2ff3f0d6",
   "metadata": {},
   "outputs": [
    {
     "data": {
      "text/plain": [
       "35"
      ]
     },
     "execution_count": 71,
     "metadata": {},
     "output_type": "execute_result"
    }
   ],
   "source": [
    "element_fifthz"
   ]
  },
  {
   "cell_type": "code",
   "execution_count": null,
   "id": "6db10548",
   "metadata": {},
   "outputs": [],
   "source": []
  }
 ],
 "metadata": {
  "kernelspec": {
   "display_name": "Python 3 (ipykernel)",
   "language": "python",
   "name": "python3"
  },
  "language_info": {
   "codemirror_mode": {
    "name": "ipython",
    "version": 3
   },
   "file_extension": ".py",
   "mimetype": "text/x-python",
   "name": "python",
   "nbconvert_exporter": "python",
   "pygments_lexer": "ipython3",
   "version": "3.9.12"
  }
 },
 "nbformat": 4,
 "nbformat_minor": 5
}
