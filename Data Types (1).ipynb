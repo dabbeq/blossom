{
 "cells": [
  {
   "cell_type": "markdown",
   "id": "1971db0e",
   "metadata": {},
   "source": [
    "### Q1\n",
    "List the basic data types in python and give one example each."
   ]
  },
  {
   "cell_type": "code",
   "execution_count": null,
   "id": "6c25a697",
   "metadata": {},
   "outputs": [],
   "source": [
    "Integers eg. 24\n",
    "Float eg. 24.2\n",
    "String eg. \"Felix\"\n",
    "Boolean eg. True"
   ]
  },
  {
   "cell_type": "markdown",
   "id": "4a2be5ba",
   "metadata": {},
   "source": [
    "### Q2\n",
    "Change the variable x = 4539.85 to :\n",
    "\n",
    "(i) a string and assign it to a new variable y,\n",
    "\n",
    "(ii) an integer and assign it to a new variable z\n",
    "\n",
    "Print out the type of y and z."
   ]
  },
  {
   "cell_type": "code",
   "execution_count": 5,
   "id": "4f69aaca",
   "metadata": {},
   "outputs": [],
   "source": [
    "x = 4539.85"
   ]
  },
  {
   "cell_type": "code",
   "execution_count": 6,
   "id": "e4d47923",
   "metadata": {},
   "outputs": [],
   "source": [
    "#(i) a string and assign it to a new variable y#\n",
    "y = str(x)"
   ]
  },
  {
   "cell_type": "code",
   "execution_count": 7,
   "id": "1b4a5a10",
   "metadata": {},
   "outputs": [
    {
     "data": {
      "text/plain": [
       "str"
      ]
     },
     "execution_count": 7,
     "metadata": {},
     "output_type": "execute_result"
    }
   ],
   "source": [
    "type(y)"
   ]
  },
  {
   "cell_type": "code",
   "execution_count": 8,
   "id": "d8bae76e",
   "metadata": {},
   "outputs": [],
   "source": [
    "z = int(x)"
   ]
  },
  {
   "cell_type": "code",
   "execution_count": 9,
   "id": "ad01a62c",
   "metadata": {},
   "outputs": [
    {
     "name": "stdout",
     "output_type": "stream",
     "text": [
      "4539.85\n"
     ]
    }
   ],
   "source": [
    "print(y)"
   ]
  },
  {
   "cell_type": "code",
   "execution_count": 10,
   "id": "4162ad81",
   "metadata": {},
   "outputs": [
    {
     "name": "stdout",
     "output_type": "stream",
     "text": [
      "4539\n"
     ]
    }
   ],
   "source": [
    "print(z)"
   ]
  },
  {
   "cell_type": "markdown",
   "id": "81a1251c",
   "metadata": {},
   "source": [
    "### Q3\n",
    "\n",
    "What data type would you use to store\n",
    "\n",
    "a. The price of car?\n",
    "\n",
    "b. The age of a person\n",
    "\n",
    "c. car plate number: plateNumber = \"AV01-AFP\"?\n",
    "\n",
    "d. The price of fuel\n",
    "\n",
    "e. The number of students in the class\n",
    "\n",
    "f. The weight of a person\n",
    "\n",
    "g. Check whether two figures are equal\n",
    "\n",
    "i. The name of a  school\n",
    "\n",
    "j. The average result of the overall score of a student\n",
    "\n",
    "k. The total number of vote cast\n",
    "\n"
   ]
  },
  {
   "cell_type": "code",
   "execution_count": null,
   "id": "056b9493",
   "metadata": {},
   "outputs": [],
   "source": [
    "a. Float\n",
    "b. Integer\n",
    "c. String\n",
    "d. Float\n",
    "e. Integer\n",
    "f. Float\n",
    "g. Boolean\n",
    "i. String\n",
    "j. Float\n",
    "k. Integer"
   ]
  },
  {
   "cell_type": "markdown",
   "id": "f0694362",
   "metadata": {},
   "source": [
    "### Q4\n",
    "**Thomas Partey is arguably the best player in the Black Stars. He is a great addition to the team**\n",
    "\n",
    "Split the statement above into **two statement_1** and **statement_2** such that statement_1 will be 'Thomas Partey is arguably the best player in the Black Stars' and statement_2 will be 'He is a great addition to the team'\n",
    "\n",
    "Statement:\n",
    "\n",
    "- **What is the length of statment 1?**\n",
    "-**What is the length of statment 2?**\n",
    "-**Is the length of statement 1 greater than statement 2**"
   ]
  },
  {
   "cell_type": "code",
   "execution_count": 17,
   "id": "19bd0a1a",
   "metadata": {},
   "outputs": [],
   "source": [
    "statement_1 = \"Thomas Partey is arguably the best player in the Black Stars\"\n",
    "statement_2 = \"He is a great addition to the team\""
   ]
  },
  {
   "cell_type": "code",
   "execution_count": 18,
   "id": "f0f2693b",
   "metadata": {},
   "outputs": [
    {
     "data": {
      "text/plain": [
       "60"
      ]
     },
     "execution_count": 18,
     "metadata": {},
     "output_type": "execute_result"
    }
   ],
   "source": [
    "len(statement_1)"
   ]
  },
  {
   "cell_type": "code",
   "execution_count": 19,
   "id": "f9753828",
   "metadata": {},
   "outputs": [
    {
     "data": {
      "text/plain": [
       "34"
      ]
     },
     "execution_count": 19,
     "metadata": {},
     "output_type": "execute_result"
    }
   ],
   "source": [
    "len(statement_2)"
   ]
  },
  {
   "cell_type": "code",
   "execution_count": 20,
   "id": "df53e87d",
   "metadata": {},
   "outputs": [
    {
     "data": {
      "text/plain": [
       "True"
      ]
     },
     "execution_count": 20,
     "metadata": {},
     "output_type": "execute_result"
    }
   ],
   "source": [
    "len(statement_1) > len(statement_2)"
   ]
  },
  {
   "cell_type": "markdown",
   "id": "ceb46447",
   "metadata": {},
   "source": [
    "### Q5\n",
    "What values does python use to represent **True** and **False** respectively?"
   ]
  },
  {
   "cell_type": "code",
   "execution_count": null,
   "id": "9eeedf46",
   "metadata": {},
   "outputs": [],
   "source": [
    "#0 = False\n",
    "#1 = True"
   ]
  },
  {
   "cell_type": "markdown",
   "id": "e4cc9b15",
   "metadata": {},
   "source": [
    "### Q6\n",
    "Write a code to evaluate if the following statments are True or False.\n",
    "\n",
    "1. 78 is greater than 46 and less than 30 which is an odd number.\n",
    "\n",
    "2. 8-2 is an even number or 8 is a is an odd number.\n",
    "\n",
    "3. The number of characters in the word 'boostrap' is 7 and that of 'sample' is 6."
   ]
  },
  {
   "cell_type": "code",
   "execution_count": 30,
   "id": "6f99af7b",
   "metadata": {},
   "outputs": [
    {
     "data": {
      "text/plain": [
       "False"
      ]
     },
     "execution_count": 30,
     "metadata": {},
     "output_type": "execute_result"
    }
   ],
   "source": [
    "78 > 46 and 78 < 30 and 30 % 2 == 1"
   ]
  },
  {
   "cell_type": "code",
   "execution_count": 34,
   "id": "9b01db06",
   "metadata": {},
   "outputs": [
    {
     "data": {
      "text/plain": [
       "True"
      ]
     },
     "execution_count": 34,
     "metadata": {},
     "output_type": "execute_result"
    }
   ],
   "source": [
    "(8 - 2) % 2 == 0 or 8 % 2 == 1"
   ]
  },
  {
   "cell_type": "code",
   "execution_count": 35,
   "id": "4fa78edb",
   "metadata": {},
   "outputs": [
    {
     "data": {
      "text/plain": [
       "False"
      ]
     },
     "execution_count": 35,
     "metadata": {},
     "output_type": "execute_result"
    }
   ],
   "source": [
    "len(\"bootstrap\") == 7 and len(\"sample\") == 6"
   ]
  },
  {
   "cell_type": "markdown",
   "id": "bc13f9fc",
   "metadata": {},
   "source": [
    "### Q7\n",
    "Given the following python code,\n",
    "\n",
    "`word='Hello, How are you?'`\n",
    "\n",
    "Write Python code to return the following\n",
    "\n",
    "- How\n",
    "- How are you\n",
    "- are\n",
    "- ?\n",
    "- Hello, How are you\n",
    "\n",
    "\n",
    " "
   ]
  },
  {
   "cell_type": "code",
   "execution_count": 47,
   "id": "6b62ec68",
   "metadata": {},
   "outputs": [],
   "source": [
    "word = \"Hello, How are you?\""
   ]
  },
  {
   "cell_type": "code",
   "execution_count": 49,
   "id": "5bb386e1",
   "metadata": {},
   "outputs": [
    {
     "data": {
      "text/plain": [
       "'How'"
      ]
     },
     "execution_count": 49,
     "metadata": {},
     "output_type": "execute_result"
    }
   ],
   "source": [
    "word[7:10]"
   ]
  },
  {
   "cell_type": "code",
   "execution_count": 50,
   "id": "c9d8dfff",
   "metadata": {},
   "outputs": [
    {
     "data": {
      "text/plain": [
       "'How are you'"
      ]
     },
     "execution_count": 50,
     "metadata": {},
     "output_type": "execute_result"
    }
   ],
   "source": [
    "word[7:18]"
   ]
  },
  {
   "cell_type": "code",
   "execution_count": 52,
   "id": "431a6ae2",
   "metadata": {},
   "outputs": [
    {
     "data": {
      "text/plain": [
       "'are'"
      ]
     },
     "execution_count": 52,
     "metadata": {},
     "output_type": "execute_result"
    }
   ],
   "source": [
    "word[-8:-5]"
   ]
  },
  {
   "cell_type": "code",
   "execution_count": 53,
   "id": "41d781fc",
   "metadata": {},
   "outputs": [
    {
     "data": {
      "text/plain": [
       "'?'"
      ]
     },
     "execution_count": 53,
     "metadata": {},
     "output_type": "execute_result"
    }
   ],
   "source": [
    "word[-1]"
   ]
  },
  {
   "cell_type": "code",
   "execution_count": 54,
   "id": "446ce682",
   "metadata": {},
   "outputs": [
    {
     "data": {
      "text/plain": [
       "19"
      ]
     },
     "execution_count": 54,
     "metadata": {},
     "output_type": "execute_result"
    }
   ],
   "source": [
    "len(word)"
   ]
  },
  {
   "cell_type": "code",
   "execution_count": 57,
   "id": "e6b18cd6",
   "metadata": {},
   "outputs": [
    {
     "data": {
      "text/plain": [
       "'Hello, How are you'"
      ]
     },
     "execution_count": 57,
     "metadata": {},
     "output_type": "execute_result"
    }
   ],
   "source": [
    "word[0:18]"
   ]
  },
  {
   "cell_type": "markdown",
   "id": "e4167de5",
   "metadata": {},
   "source": [
    "### Q8\n",
    "Given the following python code,\n",
    "\n",
    "`sentence = \"I am very excited\"`\n",
    "\n",
    "Write Python code to return \n",
    "- Convert sentence to upper case\n",
    "- Convert sentence to lower case\n",
    "- Convert sentence to title case\n",
    "- Convert sentence to list of strings\n",
    " "
   ]
  },
  {
   "cell_type": "code",
   "execution_count": 62,
   "id": "d6f269ce",
   "metadata": {},
   "outputs": [],
   "source": [
    "sentence = \"I am very excited\""
   ]
  },
  {
   "cell_type": "code",
   "execution_count": 63,
   "id": "be1f5f0f",
   "metadata": {},
   "outputs": [
    {
     "data": {
      "text/plain": [
       "'I AM VERY EXCITED'"
      ]
     },
     "execution_count": 63,
     "metadata": {},
     "output_type": "execute_result"
    }
   ],
   "source": [
    "sentence.upper()"
   ]
  },
  {
   "cell_type": "code",
   "execution_count": 64,
   "id": "e28448d4",
   "metadata": {},
   "outputs": [
    {
     "data": {
      "text/plain": [
       "'i am very excited'"
      ]
     },
     "execution_count": 64,
     "metadata": {},
     "output_type": "execute_result"
    }
   ],
   "source": [
    "sentence.lower()"
   ]
  },
  {
   "cell_type": "code",
   "execution_count": 65,
   "id": "c31917f1",
   "metadata": {},
   "outputs": [
    {
     "data": {
      "text/plain": [
       "'I Am Very Excited'"
      ]
     },
     "execution_count": 65,
     "metadata": {},
     "output_type": "execute_result"
    }
   ],
   "source": [
    "sentence.title()"
   ]
  },
  {
   "cell_type": "code",
   "execution_count": 67,
   "id": "e6783111",
   "metadata": {},
   "outputs": [
    {
     "data": {
      "text/plain": [
       "['I', 'am', 'very', 'excited']"
      ]
     },
     "execution_count": 67,
     "metadata": {},
     "output_type": "execute_result"
    }
   ],
   "source": [
    "sentence.split()"
   ]
  },
  {
   "cell_type": "markdown",
   "id": "4faf0134",
   "metadata": {},
   "source": [
    "### Q9\n",
    "`word = 'OneThirtyEight'`\n",
    "\n",
    "Using Python code extract the following from the variable word:\n",
    "- One\n",
    "- Thirty\n",
    "- Eight\n",
    "- OneThirty\n",
    "- ThirtyEight\n",
    "- ONETHIRTYEIGHT"
   ]
  },
  {
   "cell_type": "code",
   "execution_count": 68,
   "id": "1d5c1402",
   "metadata": {},
   "outputs": [],
   "source": [
    "word = \"OneThirtyEight\""
   ]
  },
  {
   "cell_type": "code",
   "execution_count": 69,
   "id": "2a667184",
   "metadata": {},
   "outputs": [
    {
     "data": {
      "text/plain": [
       "'One'"
      ]
     },
     "execution_count": 69,
     "metadata": {},
     "output_type": "execute_result"
    }
   ],
   "source": [
    "word[:3]"
   ]
  },
  {
   "cell_type": "code",
   "execution_count": 71,
   "id": "61a1a8b6",
   "metadata": {},
   "outputs": [
    {
     "data": {
      "text/plain": [
       "'Thirty'"
      ]
     },
     "execution_count": 71,
     "metadata": {},
     "output_type": "execute_result"
    }
   ],
   "source": [
    "word[3:9]"
   ]
  },
  {
   "cell_type": "code",
   "execution_count": 73,
   "id": "c1bc5d7c",
   "metadata": {},
   "outputs": [
    {
     "data": {
      "text/plain": [
       "'OneThirty'"
      ]
     },
     "execution_count": 73,
     "metadata": {},
     "output_type": "execute_result"
    }
   ],
   "source": [
    "word[:9]"
   ]
  },
  {
   "cell_type": "code",
   "execution_count": 74,
   "id": "f04ff758",
   "metadata": {},
   "outputs": [
    {
     "data": {
      "text/plain": [
       "'ThirtyEight'"
      ]
     },
     "execution_count": 74,
     "metadata": {},
     "output_type": "execute_result"
    }
   ],
   "source": [
    "word[3:]"
   ]
  },
  {
   "cell_type": "code",
   "execution_count": 80,
   "id": "c496d178",
   "metadata": {},
   "outputs": [
    {
     "data": {
      "text/plain": [
       "'ONETHIRTYEIGHT'"
      ]
     },
     "execution_count": 80,
     "metadata": {},
     "output_type": "execute_result"
    }
   ],
   "source": [
    "word.upper()"
   ]
  },
  {
   "cell_type": "markdown",
   "id": "2a4eea1f",
   "metadata": {},
   "source": [
    "### Q10\n",
    "Turn Ault'Kelly into a string and assign it to a variable  called name."
   ]
  },
  {
   "cell_type": "code",
   "execution_count": 81,
   "id": "aa2f0a08",
   "metadata": {},
   "outputs": [],
   "source": [
    "name = \"Ault'Kelly\""
   ]
  },
  {
   "cell_type": "code",
   "execution_count": 82,
   "id": "50b26c91",
   "metadata": {},
   "outputs": [
    {
     "name": "stdout",
     "output_type": "stream",
     "text": [
      "Ault'Kelly\n"
     ]
    }
   ],
   "source": [
    "print(name)"
   ]
  },
  {
   "cell_type": "code",
   "execution_count": null,
   "id": "f235e396",
   "metadata": {},
   "outputs": [],
   "source": []
  }
 ],
 "metadata": {
  "kernelspec": {
   "display_name": "Python 3 (ipykernel)",
   "language": "python",
   "name": "python3"
  },
  "language_info": {
   "codemirror_mode": {
    "name": "ipython",
    "version": 3
   },
   "file_extension": ".py",
   "mimetype": "text/x-python",
   "name": "python",
   "nbconvert_exporter": "python",
   "pygments_lexer": "ipython3",
   "version": "3.9.12"
  }
 },
 "nbformat": 4,
 "nbformat_minor": 5
}
